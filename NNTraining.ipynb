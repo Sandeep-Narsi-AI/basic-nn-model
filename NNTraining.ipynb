{
 "cells": [
  {
   "cell_type": "code",
   "execution_count": null,
   "metadata": {},
   "outputs": [],
   "source": [
    "from google.colab import auth\n",
    "import gspread\n",
    "from google.auth import default\n",
    "import pandas as pd"
   ]
  },
  {
   "cell_type": "markdown",
   "metadata": {},
   "source": [
    "## Authenticate User"
   ]
  },
  {
   "cell_type": "code",
   "execution_count": null,
   "metadata": {},
   "outputs": [],
   "source": [
    "auth.authenticate_user()\n",
    "creds, _ = default()\n",
    "gc = gspread.authorize(creds)"
   ]
  },
  {
   "cell_type": "markdown",
   "metadata": {},
   "source": [
    "## Open the Google sheet and convert into DataFrame"
   ]
  },
  {
   "cell_type": "code",
   "execution_count": null,
   "metadata": {},
   "outputs": [],
   "source": [
    "worksheet = gc.open('StudentsData').sheet1\n",
    "\n",
    "rows = worksheet.get_all_values()\n",
    "\n",
    "df = pd.DataFrame(rows[1:], columns=rows[0])\n",
    "df = df.astype({'CGPA':'float'})"
   ]
  }
 ],
 "metadata": {
  "kernelspec": {
   "display_name": "Python 3",
   "language": "python",
   "name": "python3"
  },
  "language_info": {
   "name": "python",
   "version": "3.10.0 (tags/v3.10.0:b494f59, Oct  4 2021, 19:00:18) [MSC v.1929 64 bit (AMD64)]"
  },
  "vscode": {
   "interpreter": {
    "hash": "3fa0d9eb67640176bde9663a9336c9b99810d67b0a84badecec9e2b241d7f4b7"
   }
  }
 },
 "nbformat": 4,
 "nbformat_minor": 4
}
